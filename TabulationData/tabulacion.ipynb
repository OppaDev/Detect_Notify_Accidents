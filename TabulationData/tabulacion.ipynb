{
 "cells": [
  {
   "cell_type": "code",
   "execution_count": 25,
   "metadata": {},
   "outputs": [],
   "source": [
    "import json\n",
    "import csv\n",
    "from datetime import datetime\n",
    "\n",
    "def parse_datetime(timestamp):\n",
    "    try:\n",
    "        dt = datetime.fromisoformat(timestamp)\n",
    "        return dt.date(), dt.time()\n",
    "    except ValueError:\n",
    "        return \"\", \"\"\n",
    "\n",
    "def json_to_csv(json_filepath, csv_filename):\n",
    "    with open(json_filepath, 'r', encoding='utf-8') as file:\n",
    "        json_data = json.load(file)\n",
    "    \n",
    "    detections = json_data.get(\"detections\", {})\n",
    "    \n",
    "    with open(csv_filename, mode='w', newline='', encoding='utf-8') as file:\n",
    "        writer = csv.writer(file)\n",
    "        \n",
    "        # Escribir encabezados\n",
    "        writer.writerow([\"id\", \"class_id\", \"confidence\", \"detection_date\", \"detection_time\", \"duration\", \"location\", \"status\", \"timestamp_date\", \"timestamp_time\"])\n",
    "        \n",
    "        # Escribir datos\n",
    "        for det_id, det_info in detections.items():\n",
    "            detection_date, detection_time = parse_datetime(det_info.get(\"detection_time\", \"\"))\n",
    "            timestamp_date, timestamp_time = parse_datetime(det_info.get(\"timestamp\", \"\"))\n",
    "            \n",
    "            writer.writerow([\n",
    "                det_id,\n",
    "                det_info.get(\"class_id\", \"\"),\n",
    "                det_info.get(\"confidence\", \"\"),\n",
    "                detection_date, detection_time,\n",
    "                det_info.get(\"duration\", \"\"),\n",
    "                det_info.get(\"location\", \"\"),\n",
    "                det_info.get(\"status\", \"\"),\n",
    "                timestamp_date, timestamp_time\n",
    "            ])\n"
   ]
  },
  {
   "cell_type": "code",
   "execution_count": 26,
   "metadata": {},
   "outputs": [],
   "source": [
    "json_to_csv(\"detecciones.json\", \"deteccioness.csv\")"
   ]
  },
  {
   "cell_type": "code",
   "execution_count": 23,
   "metadata": {},
   "outputs": [],
   "source": [
    "import json\n",
    "import csv\n",
    "from datetime import datetime\n",
    "\n",
    "def parse_datetime(timestamp):\n",
    "    try:\n",
    "        dt = datetime.fromisoformat(timestamp)\n",
    "        return dt.date(), dt.time()\n",
    "    except ValueError:\n",
    "        return \"\", \"\"\n",
    "\n",
    "def json_to_csv_n(json_filepath, csv_filename):\n",
    "    with open(json_filepath, 'r', encoding='utf-8') as file:\n",
    "        json_data = json.load(file)\n",
    "    \n",
    "    notifications = json_data.get(\"notifications\", {})\n",
    "    \n",
    "    with open(csv_filename, mode='w', newline='', encoding='utf-8') as file:\n",
    "        writer = csv.writer(file)\n",
    "        \n",
    "        # Escribir encabezados\n",
    "        writer.writerow([\"id\", \"title\", \"body\", \"detection_date\", \"detection_time\", \"status\", \"timestamp_date\", \"timestamp_time\"])\n",
    "        \n",
    "        # Escribir datos\n",
    "        for notif_id, notif_info in notifications.items():\n",
    "            detection_date, detection_time = parse_datetime(notif_info.get(\"detection_time\", \"\"))\n",
    "            timestamp_date, timestamp_time = parse_datetime(notif_info.get(\"timestamp\", \"\"))\n",
    "            \n",
    "            writer.writerow([\n",
    "                notif_id,\n",
    "                notif_info.get(\"title\", \"\"),\n",
    "                notif_info.get(\"body\", \"\"),\n",
    "                detection_date, detection_time,\n",
    "                notif_info.get(\"status\", \"\"),\n",
    "                timestamp_date, timestamp_time\n",
    "            ])"
   ]
  },
  {
   "cell_type": "code",
   "execution_count": 24,
   "metadata": {},
   "outputs": [],
   "source": [
    "json_to_csv_n(\"notificaciones.json\", \"notificaciones.csv\")"
   ]
  }
 ],
 "metadata": {
  "kernelspec": {
   "display_name": "yolov8_falldetection",
   "language": "python",
   "name": "python3"
  },
  "language_info": {
   "codemirror_mode": {
    "name": "ipython",
    "version": 3
   },
   "file_extension": ".py",
   "mimetype": "text/x-python",
   "name": "python",
   "nbconvert_exporter": "python",
   "pygments_lexer": "ipython3",
   "version": "3.8.20"
  }
 },
 "nbformat": 4,
 "nbformat_minor": 2
}
